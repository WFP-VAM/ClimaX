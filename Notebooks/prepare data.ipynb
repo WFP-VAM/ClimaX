{
 "cells": [
  {
   "cell_type": "code",
   "execution_count": 2,
   "id": "98ab3447-5c72-4416-95b4-493f07533e60",
   "metadata": {
    "tags": []
   },
   "outputs": [
    {
     "name": "stdout",
     "output_type": "stream",
     "text": [
      "GDAL_DATA                    = /envs/user/fix_hdc/share/gdal\n",
      "GDAL_DISABLE_READDIR_ON_OPEN = EMPTY_DIR\n",
      "GDAL_HTTP_MAX_RETRY          = 10\n",
      "GDAL_HTTP_RETRY_DELAY        = 0.5\n",
      "AWS_ACCESS_KEY_ID            = xx..xx\n",
      "AWS_SECRET_ACCESS_KEY        = xx..xx\n",
      "AWS_SESSION_TOKEN            = xx..xx\n"
     ]
    },
    {
     "name": "stderr",
     "output_type": "stream",
     "text": [
      "INFO:distributed.http.proxy:To route to workers diagnostics web server please install jupyter-server-proxy: python -m pip install jupyter-server-proxy\n",
      "INFO:distributed.scheduler:State start\n",
      "INFO:distributed.scheduler:  Scheduler at:     tcp://127.0.0.1:46111\n",
      "INFO:distributed.scheduler:  dashboard at:  /user/wessim.omezzine/proxy/8787/status\n",
      "INFO:distributed.nanny:        Start Nanny at: 'tcp://127.0.0.1:34697'\n",
      "INFO:distributed.nanny:        Start Nanny at: 'tcp://127.0.0.1:41085'\n",
      "INFO:distributed.nanny:        Start Nanny at: 'tcp://127.0.0.1:38651'\n",
      "INFO:distributed.nanny:        Start Nanny at: 'tcp://127.0.0.1:33549'\n",
      "INFO:distributed.scheduler:Register worker <WorkerState 'tcp://127.0.0.1:45289', name: 3, status: init, memory: 0, processing: 0>\n",
      "INFO:distributed.scheduler:Starting worker compute stream, tcp://127.0.0.1:45289\n",
      "INFO:distributed.core:Starting established connection to tcp://127.0.0.1:45052\n",
      "INFO:distributed.scheduler:Register worker <WorkerState 'tcp://127.0.0.1:40769', name: 0, status: init, memory: 0, processing: 0>\n",
      "INFO:distributed.scheduler:Starting worker compute stream, tcp://127.0.0.1:40769\n",
      "INFO:distributed.core:Starting established connection to tcp://127.0.0.1:45066\n",
      "INFO:distributed.scheduler:Register worker <WorkerState 'tcp://127.0.0.1:33409', name: 1, status: init, memory: 0, processing: 0>\n",
      "INFO:distributed.scheduler:Starting worker compute stream, tcp://127.0.0.1:33409\n",
      "INFO:distributed.core:Starting established connection to tcp://127.0.0.1:45036\n",
      "INFO:distributed.scheduler:Register worker <WorkerState 'tcp://127.0.0.1:34383', name: 2, status: init, memory: 0, processing: 0>\n",
      "INFO:distributed.scheduler:Starting worker compute stream, tcp://127.0.0.1:34383\n",
      "INFO:distributed.core:Starting established connection to tcp://127.0.0.1:45082\n",
      "INFO:distributed.scheduler:Receive client connection: Client-d6f7c52a-5d35-11ee-817c-0a95a05630bb\n",
      "INFO:distributed.core:Starting established connection to tcp://127.0.0.1:45094\n"
     ]
    },
    {
     "data": {
      "text/html": [
       "<div>\n",
       "    <div style=\"width: 24px; height: 24px; background-color: #e1e1e1; border: 3px solid #9D9D9D; border-radius: 5px; position: absolute;\"> </div>\n",
       "    <div style=\"margin-left: 48px;\">\n",
       "        <h3 style=\"margin-bottom: 0px;\">Client</h3>\n",
       "        <p style=\"color: #9D9D9D; margin-bottom: 0px;\">Client-d6f7c52a-5d35-11ee-817c-0a95a05630bb</p>\n",
       "        <table style=\"width: 100%; text-align: left;\">\n",
       "\n",
       "        <tr>\n",
       "        \n",
       "            <td style=\"text-align: left;\"><strong>Connection method:</strong> Cluster object</td>\n",
       "            <td style=\"text-align: left;\"><strong>Cluster type:</strong> distributed.LocalCluster</td>\n",
       "        \n",
       "        </tr>\n",
       "\n",
       "        \n",
       "            <tr>\n",
       "                <td style=\"text-align: left;\">\n",
       "                    <strong>Dashboard: </strong> <a href=\"/user/wessim.omezzine/proxy/8787/status\" target=\"_blank\">/user/wessim.omezzine/proxy/8787/status</a>\n",
       "                </td>\n",
       "                <td style=\"text-align: left;\"></td>\n",
       "            </tr>\n",
       "        \n",
       "\n",
       "        </table>\n",
       "\n",
       "        \n",
       "\n",
       "        \n",
       "            <details>\n",
       "            <summary style=\"margin-bottom: 20px;\"><h3 style=\"display: inline;\">Cluster Info</h3></summary>\n",
       "            <div class=\"jp-RenderedHTMLCommon jp-RenderedHTML jp-mod-trusted jp-OutputArea-output\">\n",
       "    <div style=\"width: 24px; height: 24px; background-color: #e1e1e1; border: 3px solid #9D9D9D; border-radius: 5px; position: absolute;\">\n",
       "    </div>\n",
       "    <div style=\"margin-left: 48px;\">\n",
       "        <h3 style=\"margin-bottom: 0px; margin-top: 0px;\">LocalCluster</h3>\n",
       "        <p style=\"color: #9D9D9D; margin-bottom: 0px;\">f8c1f9d1</p>\n",
       "        <table style=\"width: 100%; text-align: left;\">\n",
       "            <tr>\n",
       "                <td style=\"text-align: left;\">\n",
       "                    <strong>Dashboard:</strong> <a href=\"/user/wessim.omezzine/proxy/8787/status\" target=\"_blank\">/user/wessim.omezzine/proxy/8787/status</a>\n",
       "                </td>\n",
       "                <td style=\"text-align: left;\">\n",
       "                    <strong>Workers:</strong> 4\n",
       "                </td>\n",
       "            </tr>\n",
       "            <tr>\n",
       "                <td style=\"text-align: left;\">\n",
       "                    <strong>Total threads:</strong> 4\n",
       "                </td>\n",
       "                <td style=\"text-align: left;\">\n",
       "                    <strong>Total memory:</strong> 15.20 GiB\n",
       "                </td>\n",
       "            </tr>\n",
       "            \n",
       "            <tr>\n",
       "    <td style=\"text-align: left;\"><strong>Status:</strong> running</td>\n",
       "    <td style=\"text-align: left;\"><strong>Using processes:</strong> True</td>\n",
       "</tr>\n",
       "\n",
       "            \n",
       "        </table>\n",
       "\n",
       "        <details>\n",
       "            <summary style=\"margin-bottom: 20px;\">\n",
       "                <h3 style=\"display: inline;\">Scheduler Info</h3>\n",
       "            </summary>\n",
       "\n",
       "            <div style=\"\">\n",
       "    <div>\n",
       "        <div style=\"width: 24px; height: 24px; background-color: #FFF7E5; border: 3px solid #FF6132; border-radius: 5px; position: absolute;\"> </div>\n",
       "        <div style=\"margin-left: 48px;\">\n",
       "            <h3 style=\"margin-bottom: 0px;\">Scheduler</h3>\n",
       "            <p style=\"color: #9D9D9D; margin-bottom: 0px;\">Scheduler-c777e011-9748-4e10-afbe-cbfcd50d1d25</p>\n",
       "            <table style=\"width: 100%; text-align: left;\">\n",
       "                <tr>\n",
       "                    <td style=\"text-align: left;\">\n",
       "                        <strong>Comm:</strong> tcp://127.0.0.1:46111\n",
       "                    </td>\n",
       "                    <td style=\"text-align: left;\">\n",
       "                        <strong>Workers:</strong> 4\n",
       "                    </td>\n",
       "                </tr>\n",
       "                <tr>\n",
       "                    <td style=\"text-align: left;\">\n",
       "                        <strong>Dashboard:</strong> <a href=\"/user/wessim.omezzine/proxy/8787/status\" target=\"_blank\">/user/wessim.omezzine/proxy/8787/status</a>\n",
       "                    </td>\n",
       "                    <td style=\"text-align: left;\">\n",
       "                        <strong>Total threads:</strong> 4\n",
       "                    </td>\n",
       "                </tr>\n",
       "                <tr>\n",
       "                    <td style=\"text-align: left;\">\n",
       "                        <strong>Started:</strong> Just now\n",
       "                    </td>\n",
       "                    <td style=\"text-align: left;\">\n",
       "                        <strong>Total memory:</strong> 15.20 GiB\n",
       "                    </td>\n",
       "                </tr>\n",
       "            </table>\n",
       "        </div>\n",
       "    </div>\n",
       "\n",
       "    <details style=\"margin-left: 48px;\">\n",
       "        <summary style=\"margin-bottom: 20px;\">\n",
       "            <h3 style=\"display: inline;\">Workers</h3>\n",
       "        </summary>\n",
       "\n",
       "        \n",
       "        <div style=\"margin-bottom: 20px;\">\n",
       "            <div style=\"width: 24px; height: 24px; background-color: #DBF5FF; border: 3px solid #4CC9FF; border-radius: 5px; position: absolute;\"> </div>\n",
       "            <div style=\"margin-left: 48px;\">\n",
       "            <details>\n",
       "                <summary>\n",
       "                    <h4 style=\"margin-bottom: 0px; display: inline;\">Worker: 0</h4>\n",
       "                </summary>\n",
       "                <table style=\"width: 100%; text-align: left;\">\n",
       "                    <tr>\n",
       "                        <td style=\"text-align: left;\">\n",
       "                            <strong>Comm: </strong> tcp://127.0.0.1:40769\n",
       "                        </td>\n",
       "                        <td style=\"text-align: left;\">\n",
       "                            <strong>Total threads: </strong> 1\n",
       "                        </td>\n",
       "                    </tr>\n",
       "                    <tr>\n",
       "                        <td style=\"text-align: left;\">\n",
       "                            <strong>Dashboard: </strong> <a href=\"/user/wessim.omezzine/proxy/43981/status\" target=\"_blank\">/user/wessim.omezzine/proxy/43981/status</a>\n",
       "                        </td>\n",
       "                        <td style=\"text-align: left;\">\n",
       "                            <strong>Memory: </strong> 3.80 GiB\n",
       "                        </td>\n",
       "                    </tr>\n",
       "                    <tr>\n",
       "                        <td style=\"text-align: left;\">\n",
       "                            <strong>Nanny: </strong> tcp://127.0.0.1:34697\n",
       "                        </td>\n",
       "                        <td style=\"text-align: left;\"></td>\n",
       "                    </tr>\n",
       "                    <tr>\n",
       "                        <td colspan=\"2\" style=\"text-align: left;\">\n",
       "                            <strong>Local directory: </strong> /tmp/dask-scratch-space/worker-fpxj_yop\n",
       "                        </td>\n",
       "                    </tr>\n",
       "\n",
       "                    \n",
       "\n",
       "                    \n",
       "\n",
       "                </table>\n",
       "            </details>\n",
       "            </div>\n",
       "        </div>\n",
       "        \n",
       "        <div style=\"margin-bottom: 20px;\">\n",
       "            <div style=\"width: 24px; height: 24px; background-color: #DBF5FF; border: 3px solid #4CC9FF; border-radius: 5px; position: absolute;\"> </div>\n",
       "            <div style=\"margin-left: 48px;\">\n",
       "            <details>\n",
       "                <summary>\n",
       "                    <h4 style=\"margin-bottom: 0px; display: inline;\">Worker: 1</h4>\n",
       "                </summary>\n",
       "                <table style=\"width: 100%; text-align: left;\">\n",
       "                    <tr>\n",
       "                        <td style=\"text-align: left;\">\n",
       "                            <strong>Comm: </strong> tcp://127.0.0.1:33409\n",
       "                        </td>\n",
       "                        <td style=\"text-align: left;\">\n",
       "                            <strong>Total threads: </strong> 1\n",
       "                        </td>\n",
       "                    </tr>\n",
       "                    <tr>\n",
       "                        <td style=\"text-align: left;\">\n",
       "                            <strong>Dashboard: </strong> <a href=\"/user/wessim.omezzine/proxy/44231/status\" target=\"_blank\">/user/wessim.omezzine/proxy/44231/status</a>\n",
       "                        </td>\n",
       "                        <td style=\"text-align: left;\">\n",
       "                            <strong>Memory: </strong> 3.80 GiB\n",
       "                        </td>\n",
       "                    </tr>\n",
       "                    <tr>\n",
       "                        <td style=\"text-align: left;\">\n",
       "                            <strong>Nanny: </strong> tcp://127.0.0.1:41085\n",
       "                        </td>\n",
       "                        <td style=\"text-align: left;\"></td>\n",
       "                    </tr>\n",
       "                    <tr>\n",
       "                        <td colspan=\"2\" style=\"text-align: left;\">\n",
       "                            <strong>Local directory: </strong> /tmp/dask-scratch-space/worker-rkzbmb6s\n",
       "                        </td>\n",
       "                    </tr>\n",
       "\n",
       "                    \n",
       "\n",
       "                    \n",
       "\n",
       "                </table>\n",
       "            </details>\n",
       "            </div>\n",
       "        </div>\n",
       "        \n",
       "        <div style=\"margin-bottom: 20px;\">\n",
       "            <div style=\"width: 24px; height: 24px; background-color: #DBF5FF; border: 3px solid #4CC9FF; border-radius: 5px; position: absolute;\"> </div>\n",
       "            <div style=\"margin-left: 48px;\">\n",
       "            <details>\n",
       "                <summary>\n",
       "                    <h4 style=\"margin-bottom: 0px; display: inline;\">Worker: 2</h4>\n",
       "                </summary>\n",
       "                <table style=\"width: 100%; text-align: left;\">\n",
       "                    <tr>\n",
       "                        <td style=\"text-align: left;\">\n",
       "                            <strong>Comm: </strong> tcp://127.0.0.1:34383\n",
       "                        </td>\n",
       "                        <td style=\"text-align: left;\">\n",
       "                            <strong>Total threads: </strong> 1\n",
       "                        </td>\n",
       "                    </tr>\n",
       "                    <tr>\n",
       "                        <td style=\"text-align: left;\">\n",
       "                            <strong>Dashboard: </strong> <a href=\"/user/wessim.omezzine/proxy/37773/status\" target=\"_blank\">/user/wessim.omezzine/proxy/37773/status</a>\n",
       "                        </td>\n",
       "                        <td style=\"text-align: left;\">\n",
       "                            <strong>Memory: </strong> 3.80 GiB\n",
       "                        </td>\n",
       "                    </tr>\n",
       "                    <tr>\n",
       "                        <td style=\"text-align: left;\">\n",
       "                            <strong>Nanny: </strong> tcp://127.0.0.1:38651\n",
       "                        </td>\n",
       "                        <td style=\"text-align: left;\"></td>\n",
       "                    </tr>\n",
       "                    <tr>\n",
       "                        <td colspan=\"2\" style=\"text-align: left;\">\n",
       "                            <strong>Local directory: </strong> /tmp/dask-scratch-space/worker-q7w4yzca\n",
       "                        </td>\n",
       "                    </tr>\n",
       "\n",
       "                    \n",
       "\n",
       "                    \n",
       "\n",
       "                </table>\n",
       "            </details>\n",
       "            </div>\n",
       "        </div>\n",
       "        \n",
       "        <div style=\"margin-bottom: 20px;\">\n",
       "            <div style=\"width: 24px; height: 24px; background-color: #DBF5FF; border: 3px solid #4CC9FF; border-radius: 5px; position: absolute;\"> </div>\n",
       "            <div style=\"margin-left: 48px;\">\n",
       "            <details>\n",
       "                <summary>\n",
       "                    <h4 style=\"margin-bottom: 0px; display: inline;\">Worker: 3</h4>\n",
       "                </summary>\n",
       "                <table style=\"width: 100%; text-align: left;\">\n",
       "                    <tr>\n",
       "                        <td style=\"text-align: left;\">\n",
       "                            <strong>Comm: </strong> tcp://127.0.0.1:45289\n",
       "                        </td>\n",
       "                        <td style=\"text-align: left;\">\n",
       "                            <strong>Total threads: </strong> 1\n",
       "                        </td>\n",
       "                    </tr>\n",
       "                    <tr>\n",
       "                        <td style=\"text-align: left;\">\n",
       "                            <strong>Dashboard: </strong> <a href=\"/user/wessim.omezzine/proxy/38249/status\" target=\"_blank\">/user/wessim.omezzine/proxy/38249/status</a>\n",
       "                        </td>\n",
       "                        <td style=\"text-align: left;\">\n",
       "                            <strong>Memory: </strong> 3.80 GiB\n",
       "                        </td>\n",
       "                    </tr>\n",
       "                    <tr>\n",
       "                        <td style=\"text-align: left;\">\n",
       "                            <strong>Nanny: </strong> tcp://127.0.0.1:33549\n",
       "                        </td>\n",
       "                        <td style=\"text-align: left;\"></td>\n",
       "                    </tr>\n",
       "                    <tr>\n",
       "                        <td colspan=\"2\" style=\"text-align: left;\">\n",
       "                            <strong>Local directory: </strong> /tmp/dask-scratch-space/worker-9927_wxc\n",
       "                        </td>\n",
       "                    </tr>\n",
       "\n",
       "                    \n",
       "\n",
       "                    \n",
       "\n",
       "                </table>\n",
       "            </details>\n",
       "            </div>\n",
       "        </div>\n",
       "        \n",
       "\n",
       "    </details>\n",
       "</div>\n",
       "\n",
       "        </details>\n",
       "    </div>\n",
       "</div>\n",
       "            </details>\n",
       "        \n",
       "\n",
       "    </div>\n",
       "</div>"
      ],
      "text/plain": [
       "<Client: 'tcp://127.0.0.1:46111' processes=4 threads=4, memory=15.20 GiB>"
      ]
     },
     "execution_count": 2,
     "metadata": {},
     "output_type": "execute_result"
    }
   ],
   "source": [
    "import sys \n",
    "sys.path.append(\"/mnt/shared/users/wessim.omezzine/hip-analysis\")\n",
    "from hip.analysis.aoi import AnalysisArea\n",
    "from hip.analysis.data._datasources import DATASOURCE_CONFIGS\n",
    "import os\n",
    "import dask\n",
    "from dask.distributed import Client, progress\n",
    "import rioxarray as rxr\n",
    "import glob\n",
    "import tqdm\n",
    "import numpy as np\n",
    "import matplotlib.pyplot as plt\n",
    "import netCDF4 as nc\n",
    "import datetime\n",
    "\n",
    "\n",
    "import numpy as np\n",
    "import matplotlib.pyplot as plt\n",
    "import torch\n",
    "import pandas as pd\n",
    "import rasterio\n",
    "\n",
    "import warnings\n",
    "warnings.filterwarnings(\"ignore\")\n",
    "\n",
    "import s3fs\n",
    "import xarray as xr\n",
    "import dask\n",
    "# Create a dask client to distribute (speed up) the coputation\n",
    "\n",
    "# if dashboard.link set to default value and running behind hub, make dashboard link go via proxy\n",
    "if dask.config.get(\"distributed.dashboard.link\") == '{scheme}://{host}:{port}/status':\n",
    "    jup_prefix = os.environ.get('JUPYTERHUB_SERVICE_PREFIX')\n",
    "    if jup_prefix is not None:\n",
    "        jup_prefix = jup_prefix.rstrip('/')\n",
    "        dask.config.set({\"distributed.dashboard.link\": f\"{jup_prefix}/proxy/{{port}}/status\"})\n",
    "\n",
    "client = Client()\n",
    "client"
   ]
  },
  {
   "cell_type": "code",
   "execution_count": 4,
   "id": "fb8494ff-d7ab-43c3-9410-004a7f82d08f",
   "metadata": {
    "tags": []
   },
   "outputs": [],
   "source": [
    "region=\"Indonesia\"\n",
    "start_season =2\n",
    "end_season =7"
   ]
  },
  {
   "cell_type": "code",
   "execution_count": null,
   "id": "f0da381a-515b-496a-92dd-35d5ac691ca0",
   "metadata": {
    "tags": []
   },
   "outputs": [],
   "source": [
    "bbox = (110.214844,-2.416276,116.037598,1.515936) \n",
    "area = AnalysisArea(\n",
    "    bbox=bbox,\n",
    "    datetime_range=\"1983-01-01/2023-06-30\"  # change the starting date 1983  \n",
    ")\n",
    "r1h = area.get_dataset([\"CHIRPS\",\"r1h_dekad\"])\n",
    "r2h = area.get_dataset([\"CHIRPS\",\"r2h_dekad\"])\n",
    "r3h = area.get_dataset([\"CHIRPS\",\"r3h_dekad\"])\n"
   ]
  },
  {
   "cell_type": "code",
   "execution_count": null,
   "id": "c74cc913-a8e9-4a2b-9436-06fa738bf1a5",
   "metadata": {
    "tags": []
   },
   "outputs": [],
   "source": [
    "r1h = r1h.load()\n",
    "r2h = r2h.load()\n",
    "r3h = r3h.load()"
   ]
  },
  {
   "cell_type": "code",
   "execution_count": null,
   "id": "b7b22c60-7751-414a-87eb-07b79d509901",
   "metadata": {
    "tags": []
   },
   "outputs": [],
   "source": [
    "r1h = r1h.sel(time=(r1h['time.month'] >= start_season) & (r1h['time.month'] <end_season), drop=True)\n",
    "r2h = r2h.sel(time=(r2h['time.month'] >= start_season) & (r2h['time.month'] <end_season), drop=True)\n",
    "r3h = r3h.sel(time=(r3h['time.month'] >= start_season) & (r3h['time.month'] <end_season), drop=True)\n"
   ]
  },
  {
   "cell_type": "code",
   "execution_count": 13,
   "id": "36697a33-3674-4eb8-9c02-aabade51007a",
   "metadata": {
    "tags": []
   },
   "outputs": [
    {
     "name": "stderr",
     "output_type": "stream",
     "text": [
      "INFO:distributed.utils_perf:full garbage collection released 104.08 MiB from 211 reference cycles (threshold: 9.54 MiB)\n"
     ]
    }
   ],
   "source": [
    "path_issue = f's3://wfp-seasmon/zarr/seasonal-forecasts/0{start_season-1}/01'\n",
    "\n",
    "with dask.config.set(**{'array.slicing.split_large_chunks': False}):\n",
    "    ds_issue = xr.open_mfdataset(f'{path_issue}/*.zarr', chunks={\"latitude\":36, \"longitude\":70, \"ensemble\":-1}, engine='zarr')\n",
    "ds_issue = ds_issue.sel(latitude = slice(bbox[3], bbox[1]),longitude = slice(bbox[0], bbox[2])) "
   ]
  },
  {
   "cell_type": "code",
   "execution_count": 14,
   "id": "5d546038-6aa0-4851-ae14-7d7a7b5f203e",
   "metadata": {
    "tags": []
   },
   "outputs": [],
   "source": [
    "ds_issue = ds_issue.tp.load()"
   ]
  },
  {
   "cell_type": "code",
   "execution_count": 15,
   "id": "5895c3b5-76b6-4275-80b3-12f658d37fcd",
   "metadata": {
    "tags": []
   },
   "outputs": [],
   "source": [
    "da_issue= ds_issue.groupby(\"time.year\").apply(lambda da :  da.diff(dim='time', n=1))\n",
    "da_issue = da_issue.mean(\"ensemble\") #Output 1 ensemble\n",
    "#da_issue = da_issue.diff(dim='time', n=1).fillna(0)  # Non cumulative"
   ]
  },
  {
   "cell_type": "code",
   "execution_count": 17,
   "id": "8a60ca90-b2f7-4dbf-ac1e-774aa5bd1072",
   "metadata": {
    "tags": []
   },
   "outputs": [],
   "source": [
    "# DONT RUN only for dekad!!!!!\n",
    "\n",
    "np.set_printoptions(threshold=np.inf)\n",
    "\n",
    "from hdc.algo.accessors import Dekad\n",
    "from odc import stac\n",
    "import datetime\n",
    "\n",
    "def dekad_to_date(dekad):\n",
    "    dek = str(dekad)\n",
    "    DEKAD = {'1':1,'2':11,'3':21}\n",
    "    \n",
    "    return np.datetime64(datetime.date(int(dek[:4]), int(dek[4:6]), DEKAD[dek[-1]]))\n",
    "\n",
    "\n",
    "\n",
    "start_date = datetime.datetime(1983,1,1)\n",
    "end_date = datetime.datetime(2023,6,21)\n",
    "\n",
    "da_issue_dek = da_issue.sel(time=slice(start_date, end_date))\n",
    "da_issue_dek = da_issue_dek.where(da_issue_dek.time.dt.month.isin(range(start_season, end_season)), drop=True)\n",
    "da_issue_dek = da_issue_dek.assign_coords(dek=Dekad(da_issue_dek.time).label)\n",
    "da_issue_dek = da_issue_dek.groupby(da_issue_dek.dek).sum()\n",
    "\n",
    "time = [dekad_to_date(dekad.values) for dekad in da_issue_dek.dek]\n",
    "da_issue_dek['dek'] = time\n",
    "\n",
    "da_issue  =da_issue_dek.rename(dek='time')"
   ]
  },
  {
   "cell_type": "code",
   "execution_count": 18,
   "id": "41738555-58ff-4d54-9f9c-8adce8dc60ea",
   "metadata": {
    "tags": []
   },
   "outputs": [],
   "source": [
    "window_size = 3  # Number of previous dates to include in the sum\n",
    "da_issue_agg = da_issue.rolling(time=window_size, min_periods=window_size).sum()\n",
    "# da_issue_agg = da_issue.isel(time=slice(window_size - 1, None))\n",
    "da_issue_agg =  da_issue_agg.combine_first(da_issue)"
   ]
  },
  {
   "cell_type": "code",
   "execution_count": 11,
   "id": "cd7c997a-b4c9-47b3-aab9-f7de248cf615",
   "metadata": {
    "tags": []
   },
   "outputs": [],
   "source": [
    "r1h_resample = r1h.sel(latitude = slice(1.5, -1.5 ), longitude = slice(110.5, 115.5))\n",
    "r2h_resample = r2h.sel(latitude = slice(1.5, -1.5 ), longitude = slice(110.5, 115.5))\n",
    "r3h_resample = r3h.sel(latitude = slice(1.5, -1.5 ), longitude = slice(110.5, 115.5))\n",
    "\n",
    "latitude_size, longitude_size = 32,32\n",
    "\n",
    "r1h = r1h_resample.isel(latitude=slice(0,latitude_size), longitude=slice(0,longitude_size))\n",
    "r2h = r2h_resample.isel(latitude=slice(0,latitude_size), longitude=slice(0,longitude_size))\n",
    "r3h = r3h_resample.isel(latitude=slice(0,latitude_size), longitude=slice(0,longitude_size))\n",
    "\n",
    "r1h  = r1h.isel(time=slice(2,None))\n",
    "r2h  = r2h.isel(time=slice(2,None))\n",
    "r3h  = r3h.isel(time=slice(2,None))"
   ]
  },
  {
   "cell_type": "code",
   "execution_count": 19,
   "id": "e4496690-256d-4994-9c07-632a7e6645a1",
   "metadata": {
    "tags": []
   },
   "outputs": [],
   "source": [
    "da_monthly_sum_season_near = da_issue_agg.rio.write_crs(ds_issue.rio.crs).rio.reproject(r1h.rio.crs, \n",
    "                                                             resolution=(-0.05,0.05), \n",
    "                                                             resampling=rasterio.enums.Resampling.nearest)\n",
    "\n",
    "da_monthly_sum_season_near = da_monthly_sum_season_near.rename({'y': 'latitude', 'x': 'longitude'})\n",
    "da_monthly_sum_season_near = da_monthly_sum_season_near \n",
    "\n",
    "\n",
    "da_monthly_sum_season_near_resample =da_monthly_sum_season_near.sel(latitude = r1h_resample.latitude.values, longitude= r1h_resample.longitude.values, method = \"nearest\")\n",
    "\n",
    "\n",
    "\n",
    "da_monthly_sum_season_near  = da_monthly_sum_season_near_resample.isel(latitude=slice(0,latitude_size), longitude=slice(0,longitude_size))"
   ]
  },
  {
   "cell_type": "code",
   "execution_count": 20,
   "id": "93351d3c-898a-4f2b-b0d3-e0c081b824cb",
   "metadata": {
    "tags": []
   },
   "outputs": [],
   "source": [
    "da_monthly_sum_season_near  = da_monthly_sum_season_near.isel(time=slice(2,None))\n"
   ]
  },
  {
   "cell_type": "code",
   "execution_count": 21,
   "id": "b59e3e44-490b-4731-97af-20d719cac915",
   "metadata": {
    "tags": []
   },
   "outputs": [
    {
     "name": "stdout",
     "output_type": "stream",
     "text": [
      "1000.0\n"
     ]
    }
   ],
   "source": [
    "scaling_factors = 1e3\n",
    "print(scaling_factors)\n",
    "forecast = da_monthly_sum_season_near*scaling_factors"
   ]
  },
  {
   "cell_type": "code",
   "execution_count": 23,
   "id": "03785be6-57a6-4f91-8aaa-2d21d3d70155",
   "metadata": {
    "tags": []
   },
   "outputs": [
    {
     "data": {
      "text/plain": [
       "(<xarray.DataArray 'time' (time: 613)>\n",
       " array(['1983-02-21T00:00:00.000000000', '1983-03-01T00:00:00.000000000',\n",
       "        '1983-03-11T00:00:00.000000000', ..., '2023-06-01T00:00:00.000000000',\n",
       "        '2023-06-11T00:00:00.000000000', '2023-06-21T00:00:00.000000000'],\n",
       "       dtype='datetime64[ns]')\n",
       " Coordinates:\n",
       "   * time         (time) datetime64[ns] 1983-02-21 1983-03-01 ... 2023-06-21\n",
       "     spatial_ref  int64 0,\n",
       " <xarray.DataArray 'time' (time: 613)>\n",
       " array(['1983-02-21T00:00:00.000000000', '1983-03-01T00:00:00.000000000',\n",
       "        '1983-03-11T00:00:00.000000000', ..., '2023-06-01T00:00:00.000000000',\n",
       "        '2023-06-11T00:00:00.000000000', '2023-06-21T00:00:00.000000000'],\n",
       "       dtype='datetime64[ns]')\n",
       " Coordinates:\n",
       "     spatial_ref  int32 4326\n",
       "   * time         (time) datetime64[ns] 1983-02-21 1983-03-01 ... 2023-06-21)"
      ]
     },
     "execution_count": 23,
     "metadata": {},
     "output_type": "execute_result"
    }
   ],
   "source": [
    "forecast.time,r1h.time"
   ]
  },
  {
   "cell_type": "code",
   "execution_count": 12,
   "id": "89c21e6e-a6c7-448b-8ed9-d66eb3e1bafc",
   "metadata": {
    "tags": []
   },
   "outputs": [],
   "source": [
    "r1h.to_netcdf(f'Data/Downscaling/Rainfall/{region}/data/r1h.nc')\n",
    "r2h.to_netcdf(f'Data/Downscaling/Rainfall/{region}/data/r2h.nc')\n",
    "r3h.to_netcdf(f'Data/Downscaling/Rainfall/{region}/data/r3h.nc')"
   ]
  },
  {
   "cell_type": "code",
   "execution_count": 25,
   "id": "1f21b5da-0eef-4bb7-b8f7-4e88fe27cba9",
   "metadata": {
    "tags": []
   },
   "outputs": [],
   "source": [
    "forecast.to_netcdf(f'Data/Downscaling/Rainfall/{region}/data/forecast.nc')\n"
   ]
  },
  {
   "cell_type": "code",
   "execution_count": 27,
   "id": "b7056294-856a-4e86-b26d-8641ca374d18",
   "metadata": {
    "tags": []
   },
   "outputs": [],
   "source": [
    "forecast_near = xr.open_dataset(f'Data/Downscaling/Rainfall/{region}/data/forecast.nc')\n",
    "# forecast_near = forecast_near.update(forecast_near*1e4) ## CHANGE!!!\n",
    "rfh = xr.open_dataset(f'Data/Downscaling/Rainfall/{region}/data/r1h.nc')"
   ]
  },
  {
   "cell_type": "code",
   "execution_count": 5,
   "id": "b5b509ee-6222-488c-a226-f34249369ca8",
   "metadata": {
    "tags": []
   },
   "outputs": [],
   "source": [
    "r1h = xr.open_dataset(f'Data/Downscaling/Rainfall/{region}/data/r1h.nc')\n",
    "r2h = xr.open_dataset(f'Data/Downscaling/Rainfall/{region}/data/r2h.nc')\n",
    "r3h = xr.open_dataset(f'Data/Downscaling/Rainfall/{region}/data/r3h.nc')"
   ]
  },
  {
   "cell_type": "code",
   "execution_count": 6,
   "id": "3133b837-7681-4b25-ad42-e288a84af6f8",
   "metadata": {
    "tags": []
   },
   "outputs": [],
   "source": [
    "r1h_lta = r1h.sel(time=slice(\"1983-02-21\",\"2018-05-31\"))\n",
    "r1h_lta  = r1h_lta .groupby(r1h_lta.time.dt.strftime(\"%m-%d\")).mean()\n",
    "r1h_lta = r1h_lta.sel(strftime=r1h.time.dt.strftime(\"%m-%d\"))\n",
    "\n",
    "\n",
    "r2h_lta = r2h.sel(time=slice(\"1983-02-21\",\"2018-05-31\"))\n",
    "r2h_lta  = r2h_lta .groupby(r2h_lta.time.dt.strftime(\"%m-%d\")).mean()\n",
    "r2h_lta = r2h_lta.sel(strftime=r2h.time.dt.strftime(\"%m-%d\"))\n",
    "\n",
    "r3h_lta = r3h.sel(time=slice(\"1983-02-21\",\"2018-05-31\"))\n",
    "r3h_lta  = r3h_lta .groupby(r3h_lta.time.dt.strftime(\"%m-%d\")).mean()\n",
    "r3h_lta = r3h_lta.sel(strftime=r3h.time.dt.strftime(\"%m-%d\"))"
   ]
  },
  {
   "cell_type": "code",
   "execution_count": 30,
   "id": "bd06965c-cbc9-4702-84c2-c2d30012146d",
   "metadata": {
    "tags": []
   },
   "outputs": [],
   "source": [
    "rfh_lta = rfh.sel(time=slice(\"1983-02-21\",\"2018-05-31\"))\n",
    "rfh_lta  = rfh_lta .groupby(rfh_lta.time.dt.strftime(\"%m-%d\")).mean()\n",
    "rfh_lta = rfh_lta.sel(strftime=rfh.time.dt.strftime(\"%m-%d\"))"
   ]
  },
  {
   "cell_type": "code",
   "execution_count": 8,
   "id": "8c923b40-8e9e-4757-ba18-a13d849298cd",
   "metadata": {
    "tags": []
   },
   "outputs": [],
   "source": [
    "r1h_lta.to_netcdf(f'Data/Downscaling/Rainfall/{region}/data/r1h_lta.nc')\n",
    "r2h_lta.to_netcdf(f'Data/Downscaling/Rainfall/{region}/data/r2h_lta.nc')\n",
    "r3h_lta.to_netcdf(f'Data/Downscaling/Rainfall/{region}/data/r3h_lta.nc')"
   ]
  },
  {
   "cell_type": "code",
   "execution_count": 32,
   "id": "5b1330b5-3d7e-4abe-a7f8-146488cb697e",
   "metadata": {
    "tags": []
   },
   "outputs": [
    {
     "data": {
      "image/png": "[encoded data removed]",
      "text/plain": [
       "<Figure size 1500x500 with 6 Axes>"
      ]
     },
     "metadata": {},
     "output_type": "display_data"
    },
    {
     "data": {
      "image/png": "[encoded data removed]",
      "text/plain": [
       "<Figure size 1500x500 with 6 Axes>"
      ]
     },
     "metadata": {},
     "output_type": "display_data"
    },
    {
     "data": {
      "image/png": "[encoded data removed]",
      "text/plain": [
       "<Figure size 1500x500 with 6 Axes>"
      ]
     },
     "metadata": {},
     "output_type": "display_data"
    },
    {
     "data": {
      "image/png": "[encoded data removed]",
      "text/plain": [
       "<Figure size 1500x500 with 6 Axes>"
      ]
     },
     "metadata": {},
     "output_type": "display_data"
    }
   ],
   "source": [
    "for index in range(4):\n",
    "    fig, axes = plt.subplots(1, 3, figsize=(15, 5))\n",
    "    im1 = axes[0].imshow(rfh['band'][index])\n",
    "\n",
    "    im2 = axes[1].imshow(forecast_near['tp'][index])\n",
    "\n",
    "    im3 = axes[2].imshow(rfh_lta['band'][index])\n",
    "    \n",
    "\n",
    "    fig.colorbar(im1)\n",
    "    fig.colorbar(im2)\n",
    "    fig.colorbar(im3)\n",
    "\n",
    "    plt.show()\n"
   ]
  },
  {
   "cell_type": "code",
   "execution_count": 2,
   "id": "58e1d13c-2671-4b45-8e87-e3917acf9443",
   "metadata": {
    "tags": []
   },
   "outputs": [],
   "source": [
    "import numpy as np"
   ]
  },
  {
   "cell_type": "code",
   "execution_count": 12,
   "id": "1bc8ce14-cfde-45c3-b60d-e440142e580c",
   "metadata": {
    "tags": []
   },
   "outputs": [
    {
     "data": {
      "text/plain": [
       "((15, 1, 32, 32), (15, 1, 32, 32))"
      ]
     },
     "execution_count": 12,
     "metadata": {},
     "output_type": "execute_result"
    }
   ],
   "source": [
    "data = np.load('Data/Downscaling/Rainfall/Indonesia/data_npz/train/1984_00_inp.npz')\n",
    "data[\"rfh_lta\"].shape, data[\"forecast\"].shape"
   ]
  },
  {
   "cell_type": "code",
   "execution_count": 11,
   "id": "28889fa2-fbfb-4a30-91de-c984ac8736b5",
   "metadata": {
    "tags": []
   },
   "outputs": [
    {
     "data": {
      "text/plain": [
       "(15, 1, 32, 32)"
      ]
     },
     "execution_count": 11,
     "metadata": {},
     "output_type": "execute_result"
    }
   ],
   "source": [
    "data = np.load('Data/Downscaling/Rainfall/Indonesia/data_npz/train/1984_00_out.npz')\n",
    "data[\"rfh\"].shape"
   ]
  },
  {
   "cell_type": "code",
   "execution_count": 6,
   "id": "dae1f435-5129-462b-9d19-730f8e1438b2",
   "metadata": {
    "tags": []
   },
   "outputs": [],
   "source": [
    "import sys\n",
    "sys.path.append('/mnt/shared/users/wessim.omezzine/ClimaX/src/climax')\n",
    "sys.path.append('/mnt/shared/users/wessim.omezzine/ClimaX/src/')\n",
    "import torch \n",
    "import os\n",
    "import random\n",
    "import numpy as np\n",
    "import torch\n",
    "import matplotlib.pyplot as plt\n",
    "from datetime import datetime\n",
    "from torchvision.transforms import transforms\n",
    "import torch.nn.functional as F\n",
    "from prettytable import PrettyTable\n",
    "from scipy import stats\n",
    "\n",
    "import loralib as lora\n",
    "from skimage.metrics import structural_similarity as ssim\n",
    "\n",
    "\n",
    "from climax.climate_downscaling.module import ClimateDownscalingModule\n",
    "from climax.climate_downscaling.datamodule import ClimateDownscalingDataModule\n",
    "from pytorch_lightning.cli import LightningCLI\n",
    "from pytorch_lightning import Trainer\n",
    "from climax.arch import ClimaX\n",
    "\n",
    "\n",
    "TASK_TO_RANGE = {\n",
    "    '0 days' : 0,\n",
    "    '10 days' : 1,\n",
    "    '40 days': 4,\n",
    "    '50 days': 5,\n",
    "    '60 days': 6,\n",
    "    '20 days': 2,\n",
    "    '30 days': 3,\n",
    "}"
   ]
  },
  {
   "cell_type": "code",
   "execution_count": 7,
   "id": "55afb4ae-5164-4b60-8269-a7afd72b9afc",
   "metadata": {
    "tags": []
   },
   "outputs": [
    {
     "name": "stdout",
     "output_type": "stream",
     "text": [
      "Loading pre-trained checkpoint from: ClimaX/exps/downscale/checkpoints/epoch_017.ckpt\n",
      "<All keys matched successfully>\n"
     ]
    }
   ],
   "source": [
    "net_args = {\n",
    "    'default_vars': [\n",
    "        'forecast', 'rfh_lta', 'rfh','r2h','r3h']\n",
    "    ,\"img_size\" :  [32, 32],\n",
    "      \"patch_size\" :  2,\n",
    "      \"embed_dim\":   2048,\n",
    "      \"depth\" : 5,\n",
    "      \"decoder_depth\" :  2,\n",
    "      \"num_heads\": 8,\n",
    "    \"mlp_ratio\": 2,\n",
    "    \"drop_path\": 0.5,\n",
    "    \"drop_rate\": 0.5,\n",
    "    \n",
    "}\n",
    "net = ClimaX(**net_args)\n",
    "model = ClimateDownscalingModule(net=net, pretrained_path='ClimaX/exps/downscale/checkpoints/epoch_017.ckpt')\n",
    "\n"
   ]
  },
  {
   "cell_type": "code",
   "execution_count": 8,
   "id": "05dfa042-a144-4f8e-af03-6cd322c78f57",
   "metadata": {
    "tags": []
   },
   "outputs": [
    {
     "name": "stdout",
     "output_type": "stream",
     "text": [
      "Parameter name: net.var_embed, Parameter shape: torch.Size([1, 5, 2048])\n",
      "Parameter name: net.var_query, Parameter shape: torch.Size([1, 1, 2048])\n",
      "Parameter name: net.pos_embed, Parameter shape: torch.Size([1, 256, 2048])\n",
      "Parameter name: net.token_embeds.0.proj.weight, Parameter shape: torch.Size([2048, 1, 2, 2])\n",
      "Parameter name: net.token_embeds.0.proj.bias, Parameter shape: torch.Size([2048])\n",
      "Parameter name: net.token_embeds.1.proj.weight, Parameter shape: torch.Size([2048, 1, 2, 2])\n",
      "Parameter name: net.token_embeds.1.proj.bias, Parameter shape: torch.Size([2048])\n",
      "Parameter name: net.token_embeds.2.proj.weight, Parameter shape: torch.Size([2048, 1, 2, 2])\n",
      "Parameter name: net.token_embeds.2.proj.bias, Parameter shape: torch.Size([2048])\n",
      "Parameter name: net.token_embeds.3.proj.weight, Parameter shape: torch.Size([2048, 1, 2, 2])\n",
      "Parameter name: net.token_embeds.3.proj.bias, Parameter shape: torch.Size([2048])\n",
      "Parameter name: net.token_embeds.4.proj.weight, Parameter shape: torch.Size([2048, 1, 2, 2])\n",
      "Parameter name: net.token_embeds.4.proj.bias, Parameter shape: torch.Size([2048])\n",
      "Parameter name: net.var_agg.in_proj_weight, Parameter shape: torch.Size([6144, 2048])\n",
      "Parameter name: net.var_agg.in_proj_bias, Parameter shape: torch.Size([6144])\n",
      "Parameter name: net.var_agg.out_proj.weight, Parameter shape: torch.Size([2048, 2048])\n",
      "Parameter name: net.var_agg.out_proj.bias, Parameter shape: torch.Size([2048])\n",
      "Parameter name: net.lead_time_embed.weight, Parameter shape: torch.Size([2048, 1])\n",
      "Parameter name: net.lead_time_embed.bias, Parameter shape: torch.Size([2048])\n",
      "Parameter name: net.blocks.0.norm1.weight, Parameter shape: torch.Size([2048])\n",
      "Parameter name: net.blocks.0.norm1.bias, Parameter shape: torch.Size([2048])\n",
      "Parameter name: net.blocks.0.attn.qkv.weight, Parameter shape: torch.Size([6144, 2048])\n",
      "Parameter name: net.blocks.0.attn.qkv.bias, Parameter shape: torch.Size([6144])\n",
      "Parameter name: net.blocks.0.attn.proj.weight, Parameter shape: torch.Size([2048, 2048])\n",
      "Parameter name: net.blocks.0.attn.proj.bias, Parameter shape: torch.Size([2048])\n",
      "Parameter name: net.blocks.0.norm2.weight, Parameter shape: torch.Size([2048])\n",
      "Parameter name: net.blocks.0.norm2.bias, Parameter shape: torch.Size([2048])\n",
      "Parameter name: net.blocks.0.mlp.fc1.weight, Parameter shape: torch.Size([4096, 2048])\n",
      "Parameter name: net.blocks.0.mlp.fc1.bias, Parameter shape: torch.Size([4096])\n",
      "Parameter name: net.blocks.0.mlp.fc2.weight, Parameter shape: torch.Size([2048, 4096])\n",
      "Parameter name: net.blocks.0.mlp.fc2.bias, Parameter shape: torch.Size([2048])\n",
      "Parameter name: net.blocks.1.norm1.weight, Parameter shape: torch.Size([2048])\n",
      "Parameter name: net.blocks.1.norm1.bias, Parameter shape: torch.Size([2048])\n",
      "Parameter name: net.blocks.1.attn.qkv.weight, Parameter shape: torch.Size([6144, 2048])\n",
      "Parameter name: net.blocks.1.attn.qkv.bias, Parameter shape: torch.Size([6144])\n",
      "Parameter name: net.blocks.1.attn.proj.weight, Parameter shape: torch.Size([2048, 2048])\n",
      "Parameter name: net.blocks.1.attn.proj.bias, Parameter shape: torch.Size([2048])\n",
      "Parameter name: net.blocks.1.norm2.weight, Parameter shape: torch.Size([2048])\n",
      "Parameter name: net.blocks.1.norm2.bias, Parameter shape: torch.Size([2048])\n",
      "Parameter name: net.blocks.1.mlp.fc1.weight, Parameter shape: torch.Size([4096, 2048])\n",
      "Parameter name: net.blocks.1.mlp.fc1.bias, Parameter shape: torch.Size([4096])\n",
      "Parameter name: net.blocks.1.mlp.fc2.weight, Parameter shape: torch.Size([2048, 4096])\n",
      "Parameter name: net.blocks.1.mlp.fc2.bias, Parameter shape: torch.Size([2048])\n",
      "Parameter name: net.blocks.2.norm1.weight, Parameter shape: torch.Size([2048])\n",
      "Parameter name: net.blocks.2.norm1.bias, Parameter shape: torch.Size([2048])\n",
      "Parameter name: net.blocks.2.attn.qkv.weight, Parameter shape: torch.Size([6144, 2048])\n",
      "Parameter name: net.blocks.2.attn.qkv.bias, Parameter shape: torch.Size([6144])\n",
      "Parameter name: net.blocks.2.attn.proj.weight, Parameter shape: torch.Size([2048, 2048])\n",
      "Parameter name: net.blocks.2.attn.proj.bias, Parameter shape: torch.Size([2048])\n",
      "Parameter name: net.blocks.2.norm2.weight, Parameter shape: torch.Size([2048])\n",
      "Parameter name: net.blocks.2.norm2.bias, Parameter shape: torch.Size([2048])\n",
      "Parameter name: net.blocks.2.mlp.fc1.weight, Parameter shape: torch.Size([4096, 2048])\n",
      "Parameter name: net.blocks.2.mlp.fc1.bias, Parameter shape: torch.Size([4096])\n",
      "Parameter name: net.blocks.2.mlp.fc2.weight, Parameter shape: torch.Size([2048, 4096])\n",
      "Parameter name: net.blocks.2.mlp.fc2.bias, Parameter shape: torch.Size([2048])\n",
      "Parameter name: net.blocks.3.norm1.weight, Parameter shape: torch.Size([2048])\n",
      "Parameter name: net.blocks.3.norm1.bias, Parameter shape: torch.Size([2048])\n",
      "Parameter name: net.blocks.3.attn.qkv.weight, Parameter shape: torch.Size([6144, 2048])\n",
      "Parameter name: net.blocks.3.attn.qkv.bias, Parameter shape: torch.Size([6144])\n",
      "Parameter name: net.blocks.3.attn.proj.weight, Parameter shape: torch.Size([2048, 2048])\n",
      "Parameter name: net.blocks.3.attn.proj.bias, Parameter shape: torch.Size([2048])\n",
      "Parameter name: net.blocks.3.norm2.weight, Parameter shape: torch.Size([2048])\n",
      "Parameter name: net.blocks.3.norm2.bias, Parameter shape: torch.Size([2048])\n",
      "Parameter name: net.blocks.3.mlp.fc1.weight, Parameter shape: torch.Size([4096, 2048])\n",
      "Parameter name: net.blocks.3.mlp.fc1.bias, Parameter shape: torch.Size([4096])\n",
      "Parameter name: net.blocks.3.mlp.fc2.weight, Parameter shape: torch.Size([2048, 4096])\n",
      "Parameter name: net.blocks.3.mlp.fc2.bias, Parameter shape: torch.Size([2048])\n",
      "Parameter name: net.blocks.4.norm1.weight, Parameter shape: torch.Size([2048])\n",
      "Parameter name: net.blocks.4.norm1.bias, Parameter shape: torch.Size([2048])\n",
      "Parameter name: net.blocks.4.attn.qkv.weight, Parameter shape: torch.Size([6144, 2048])\n",
      "Parameter name: net.blocks.4.attn.qkv.bias, Parameter shape: torch.Size([6144])\n",
      "Parameter name: net.blocks.4.attn.proj.weight, Parameter shape: torch.Size([2048, 2048])\n",
      "Parameter name: net.blocks.4.attn.proj.bias, Parameter shape: torch.Size([2048])\n",
      "Parameter name: net.blocks.4.norm2.weight, Parameter shape: torch.Size([2048])\n",
      "Parameter name: net.blocks.4.norm2.bias, Parameter shape: torch.Size([2048])\n",
      "Parameter name: net.blocks.4.mlp.fc1.weight, Parameter shape: torch.Size([4096, 2048])\n",
      "Parameter name: net.blocks.4.mlp.fc1.bias, Parameter shape: torch.Size([4096])\n",
      "Parameter name: net.blocks.4.mlp.fc2.weight, Parameter shape: torch.Size([2048, 4096])\n",
      "Parameter name: net.blocks.4.mlp.fc2.bias, Parameter shape: torch.Size([2048])\n",
      "Parameter name: net.norm.weight, Parameter shape: torch.Size([2048])\n",
      "Parameter name: net.norm.bias, Parameter shape: torch.Size([2048])\n",
      "Parameter name: net.head.0.weight, Parameter shape: torch.Size([2048, 2048])\n",
      "Parameter name: net.head.0.bias, Parameter shape: torch.Size([2048])\n",
      "Parameter name: net.head.2.weight, Parameter shape: torch.Size([2048, 2048])\n",
      "Parameter name: net.head.2.bias, Parameter shape: torch.Size([2048])\n",
      "Parameter name: net.head.4.weight, Parameter shape: torch.Size([20, 2048])\n",
      "Parameter name: net.head.4.bias, Parameter shape: torch.Size([20])\n"
     ]
    }
   ],
   "source": [
    "named_params = list(model.named_parameters())\n",
    "\n",
    "# Now you can access and view the named parameters\n",
    "for name, param in named_params:\n",
    "    print(f\"Parameter name: {name}, Parameter shape: {param.shape}\")\n"
   ]
  },
  {
   "cell_type": "code",
   "execution_count": 9,
   "id": "a68c3628-ffd5-47e7-8068-84b8f7079796",
   "metadata": {
    "tags": []
   },
   "outputs": [],
   "source": [
    "lora.mark_only_lora_as_trainable(model)"
   ]
  },
  {
   "cell_type": "code",
   "execution_count": 10,
   "id": "9cc854f4-0c10-407d-8354-68ca53e6a883",
   "metadata": {
    "tags": []
   },
   "outputs": [
    {
     "name": "stdout",
     "output_type": "stream",
     "text": [
      "Parameter name: net.var_embed, Parameter shape: torch.Size([1, 5, 2048])\n",
      "Parameter name: net.var_query, Parameter shape: torch.Size([1, 1, 2048])\n",
      "Parameter name: net.pos_embed, Parameter shape: torch.Size([1, 256, 2048])\n",
      "Parameter name: net.token_embeds.0.proj.weight, Parameter shape: torch.Size([2048, 1, 2, 2])\n",
      "Parameter name: net.token_embeds.0.proj.bias, Parameter shape: torch.Size([2048])\n",
      "Parameter name: net.token_embeds.1.proj.weight, Parameter shape: torch.Size([2048, 1, 2, 2])\n",
      "Parameter name: net.token_embeds.1.proj.bias, Parameter shape: torch.Size([2048])\n",
      "Parameter name: net.token_embeds.2.proj.weight, Parameter shape: torch.Size([2048, 1, 2, 2])\n",
      "Parameter name: net.token_embeds.2.proj.bias, Parameter shape: torch.Size([2048])\n",
      "Parameter name: net.token_embeds.3.proj.weight, Parameter shape: torch.Size([2048, 1, 2, 2])\n",
      "Parameter name: net.token_embeds.3.proj.bias, Parameter shape: torch.Size([2048])\n",
      "Parameter name: net.token_embeds.4.proj.weight, Parameter shape: torch.Size([2048, 1, 2, 2])\n",
      "Parameter name: net.token_embeds.4.proj.bias, Parameter shape: torch.Size([2048])\n",
      "Parameter name: net.var_agg.in_proj_weight, Parameter shape: torch.Size([6144, 2048])\n",
      "Parameter name: net.var_agg.in_proj_bias, Parameter shape: torch.Size([6144])\n",
      "Parameter name: net.var_agg.out_proj.weight, Parameter shape: torch.Size([2048, 2048])\n",
      "Parameter name: net.var_agg.out_proj.bias, Parameter shape: torch.Size([2048])\n",
      "Parameter name: net.lead_time_embed.weight, Parameter shape: torch.Size([2048, 1])\n",
      "Parameter name: net.lead_time_embed.bias, Parameter shape: torch.Size([2048])\n",
      "Parameter name: net.blocks.0.norm1.weight, Parameter shape: torch.Size([2048])\n",
      "Parameter name: net.blocks.0.norm1.bias, Parameter shape: torch.Size([2048])\n",
      "Parameter name: net.blocks.0.attn.qkv.weight, Parameter shape: torch.Size([6144, 2048])\n",
      "Parameter name: net.blocks.0.attn.qkv.bias, Parameter shape: torch.Size([6144])\n",
      "Parameter name: net.blocks.0.attn.proj.weight, Parameter shape: torch.Size([2048, 2048])\n",
      "Parameter name: net.blocks.0.attn.proj.bias, Parameter shape: torch.Size([2048])\n",
      "Parameter name: net.blocks.0.norm2.weight, Parameter shape: torch.Size([2048])\n",
      "Parameter name: net.blocks.0.norm2.bias, Parameter shape: torch.Size([2048])\n",
      "Parameter name: net.blocks.0.mlp.fc1.weight, Parameter shape: torch.Size([4096, 2048])\n",
      "Parameter name: net.blocks.0.mlp.fc1.bias, Parameter shape: torch.Size([4096])\n",
      "Parameter name: net.blocks.0.mlp.fc2.weight, Parameter shape: torch.Size([2048, 4096])\n",
      "Parameter name: net.blocks.0.mlp.fc2.bias, Parameter shape: torch.Size([2048])\n",
      "Parameter name: net.blocks.1.norm1.weight, Parameter shape: torch.Size([2048])\n",
      "Parameter name: net.blocks.1.norm1.bias, Parameter shape: torch.Size([2048])\n",
      "Parameter name: net.blocks.1.attn.qkv.weight, Parameter shape: torch.Size([6144, 2048])\n",
      "Parameter name: net.blocks.1.attn.qkv.bias, Parameter shape: torch.Size([6144])\n",
      "Parameter name: net.blocks.1.attn.proj.weight, Parameter shape: torch.Size([2048, 2048])\n",
      "Parameter name: net.blocks.1.attn.proj.bias, Parameter shape: torch.Size([2048])\n",
      "Parameter name: net.blocks.1.norm2.weight, Parameter shape: torch.Size([2048])\n",
      "Parameter name: net.blocks.1.norm2.bias, Parameter shape: torch.Size([2048])\n",
      "Parameter name: net.blocks.1.mlp.fc1.weight, Parameter shape: torch.Size([4096, 2048])\n",
      "Parameter name: net.blocks.1.mlp.fc1.bias, Parameter shape: torch.Size([4096])\n",
      "Parameter name: net.blocks.1.mlp.fc2.weight, Parameter shape: torch.Size([2048, 4096])\n",
      "Parameter name: net.blocks.1.mlp.fc2.bias, Parameter shape: torch.Size([2048])\n",
      "Parameter name: net.blocks.2.norm1.weight, Parameter shape: torch.Size([2048])\n",
      "Parameter name: net.blocks.2.norm1.bias, Parameter shape: torch.Size([2048])\n",
      "Parameter name: net.blocks.2.attn.qkv.weight, Parameter shape: torch.Size([6144, 2048])\n",
      "Parameter name: net.blocks.2.attn.qkv.bias, Parameter shape: torch.Size([6144])\n",
      "Parameter name: net.blocks.2.attn.proj.weight, Parameter shape: torch.Size([2048, 2048])\n",
      "Parameter name: net.blocks.2.attn.proj.bias, Parameter shape: torch.Size([2048])\n",
      "Parameter name: net.blocks.2.norm2.weight, Parameter shape: torch.Size([2048])\n",
      "Parameter name: net.blocks.2.norm2.bias, Parameter shape: torch.Size([2048])\n",
      "Parameter name: net.blocks.2.mlp.fc1.weight, Parameter shape: torch.Size([4096, 2048])\n",
      "Parameter name: net.blocks.2.mlp.fc1.bias, Parameter shape: torch.Size([4096])\n",
      "Parameter name: net.blocks.2.mlp.fc2.weight, Parameter shape: torch.Size([2048, 4096])\n",
      "Parameter name: net.blocks.2.mlp.fc2.bias, Parameter shape: torch.Size([2048])\n",
      "Parameter name: net.blocks.3.norm1.weight, Parameter shape: torch.Size([2048])\n",
      "Parameter name: net.blocks.3.norm1.bias, Parameter shape: torch.Size([2048])\n",
      "Parameter name: net.blocks.3.attn.qkv.weight, Parameter shape: torch.Size([6144, 2048])\n",
      "Parameter name: net.blocks.3.attn.qkv.bias, Parameter shape: torch.Size([6144])\n",
      "Parameter name: net.blocks.3.attn.proj.weight, Parameter shape: torch.Size([2048, 2048])\n",
      "Parameter name: net.blocks.3.attn.proj.bias, Parameter shape: torch.Size([2048])\n",
      "Parameter name: net.blocks.3.norm2.weight, Parameter shape: torch.Size([2048])\n",
      "Parameter name: net.blocks.3.norm2.bias, Parameter shape: torch.Size([2048])\n",
      "Parameter name: net.blocks.3.mlp.fc1.weight, Parameter shape: torch.Size([4096, 2048])\n",
      "Parameter name: net.blocks.3.mlp.fc1.bias, Parameter shape: torch.Size([4096])\n",
      "Parameter name: net.blocks.3.mlp.fc2.weight, Parameter shape: torch.Size([2048, 4096])\n",
      "Parameter name: net.blocks.3.mlp.fc2.bias, Parameter shape: torch.Size([2048])\n",
      "Parameter name: net.blocks.4.norm1.weight, Parameter shape: torch.Size([2048])\n",
      "Parameter name: net.blocks.4.norm1.bias, Parameter shape: torch.Size([2048])\n",
      "Parameter name: net.blocks.4.attn.qkv.weight, Parameter shape: torch.Size([6144, 2048])\n",
      "Parameter name: net.blocks.4.attn.qkv.bias, Parameter shape: torch.Size([6144])\n",
      "Parameter name: net.blocks.4.attn.proj.weight, Parameter shape: torch.Size([2048, 2048])\n",
      "Parameter name: net.blocks.4.attn.proj.bias, Parameter shape: torch.Size([2048])\n",
      "Parameter name: net.blocks.4.norm2.weight, Parameter shape: torch.Size([2048])\n",
      "Parameter name: net.blocks.4.norm2.bias, Parameter shape: torch.Size([2048])\n",
      "Parameter name: net.blocks.4.mlp.fc1.weight, Parameter shape: torch.Size([4096, 2048])\n",
      "Parameter name: net.blocks.4.mlp.fc1.bias, Parameter shape: torch.Size([4096])\n",
      "Parameter name: net.blocks.4.mlp.fc2.weight, Parameter shape: torch.Size([2048, 4096])\n",
      "Parameter name: net.blocks.4.mlp.fc2.bias, Parameter shape: torch.Size([2048])\n",
      "Parameter name: net.norm.weight, Parameter shape: torch.Size([2048])\n",
      "Parameter name: net.norm.bias, Parameter shape: torch.Size([2048])\n",
      "Parameter name: net.head.0.weight, Parameter shape: torch.Size([2048, 2048])\n",
      "Parameter name: net.head.0.bias, Parameter shape: torch.Size([2048])\n",
      "Parameter name: net.head.2.weight, Parameter shape: torch.Size([2048, 2048])\n",
      "Parameter name: net.head.2.bias, Parameter shape: torch.Size([2048])\n",
      "Parameter name: net.head.4.weight, Parameter shape: torch.Size([20, 2048])\n",
      "Parameter name: net.head.4.bias, Parameter shape: torch.Size([20])\n"
     ]
    }
   ],
   "source": [
    "named_params = list(model.named_parameters())\n",
    "\n",
    "# Now you can access and view the named parameters\n",
    "for name, param in named_params:\n",
    "    print(f\"Parameter name: {name}, Parameter shape: {param.shape}\")\n"
   ]
  },
  {
   "cell_type": "code",
   "execution_count": 1,
   "id": "164627bf-0623-40db-a94c-fe244ee0052c",
   "metadata": {},
   "outputs": [
    {
     "name": "stdout",
     "output_type": "stream",
     "text": [
      "Number of GPUs available: 1\n"
     ]
    }
   ],
   "source": [
    "import torch\n",
    "\n",
    "# Check for the number of available GPUs\n",
    "num_gpus = torch.cuda.device_count()\n",
    "\n",
    "print(f\"Number of GPUs available: {num_gpus}\")\n",
    "\n"
   ]
  }
 ],
 "metadata": {
  "kernelspec": {
   "display_name": "fix_hdc",
   "language": "python",
   "name": "conda-env-fix_hdc-py"
  },
  "language_info": {
   "codemirror_mode": {
    "name": "ipython",
    "version": 3
   },
   "file_extension": ".py",
   "mimetype": "text/x-python",
   "name": "python",
   "nbconvert_exporter": "python",
   "pygments_lexer": "ipython3",
   "version": "3.10.12"
  }
 },
 "nbformat": 4,
 "nbformat_minor": 5
}
